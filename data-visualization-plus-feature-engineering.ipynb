{
 "cells": [
  {
   "cell_type": "code",
   "execution_count": 1,
   "metadata": {
    "executionInfo": {
     "elapsed": 377,
     "status": "ok",
     "timestamp": 1761511448130,
     "user": {
      "displayName": "Ingred Almeida",
      "userId": "12962108153732502929"
     },
     "user_tz": 180
    },
    "id": "pDfRKvDiIdse"
   },
   "outputs": [],
   "source": [
    "import pandas as pd\n",
    "import numpy as np\n",
    "import matplotlib.pyplot as plt\n",
    "import os, glob, pprint, hashlib"
   ]
  },
  {
   "cell_type": "code",
   "execution_count": null,
   "metadata": {
    "colab": {
     "base_uri": "https://localhost:8080/"
    },
    "executionInfo": {
     "elapsed": 21634,
     "status": "ok",
     "timestamp": 1761511469789,
     "user": {
      "displayName": "Ingred Almeida",
      "userId": "12962108153732502929"
     },
     "user_tz": 180
    },
    "id": "kQ4MFcXRLLqy",
    "outputId": "3da9d528-45f5-40d6-8e46-785294d3b88c"
   },
   "outputs": [],
   "source": [
    "from google.colab import drive\n",
    "drive.mount('/content/gdrive', force_remount=True)\n",
    "\n",
    "DATA_DIR = ''\n",
    "PROC_DIR = DATA_DIR + '/processed'"
   ]
  },
  {
   "cell_type": "code",
   "execution_count": null,
   "metadata": {
    "colab": {
     "base_uri": "https://localhost:8080/"
    },
    "executionInfo": {
     "elapsed": 19440,
     "status": "ok",
     "timestamp": 1761511489235,
     "user": {
      "displayName": "Ingred Almeida",
      "userId": "12962108153732502929"
     },
     "user_tz": 180
    },
    "id": "NfcpGX8zK5qi",
    "outputId": "7156ac4f-ed86-4c21-91fc-3705613f55a9"
   },
   "outputs": [],
   "source": [
    "print(\"PROC_DIR exists?\", os.path.exists(PROC_DIR))\n",
    "print(sorted(glob.glob(PROC_DIR + \"/*.parquet\"))[:10])\n",
    "\n",
    "principal = pd.read_parquet(os.path.join(PROC_DIR, 'principal_clean.parquet'))\n",
    "train_pr  = pd.read_parquet(os.path.join(PROC_DIR, 'train_clean.parquet'))\n",
    "valid_pr  = pd.read_parquet(os.path.join(PROC_DIR, 'valid_clean.parquet'))\n",
    "test_pr   = pd.read_parquet(os.path.join(PROC_DIR, 'test_clean.parquet'))"
   ]
  },
  {
   "cell_type": "markdown",
   "metadata": {
    "id": "mHESkzaeLg3m"
   },
   "source": [
    "### **Visualização dos dados**\n",
    "\n"
   ]
  },
  {
   "cell_type": "code",
   "execution_count": null,
   "metadata": {
    "colab": {
     "base_uri": "https://localhost:8080/",
     "height": 0
    },
    "executionInfo": {
     "elapsed": 1963,
     "status": "ok",
     "timestamp": 1761511491210,
     "user": {
      "displayName": "Ingred Almeida",
      "userId": "12962108153732502929"
     },
     "user_tz": 180
    },
    "id": "R2vSWC64Lkdl",
    "outputId": "bbb2abab-ed3b-4482-f849-5470ea0707ce"
   },
   "outputs": [],
   "source": [
    "#distribuição dos valores\n",
    "principal = principal.copy()\n",
    "principal['amount_log'] = np.log1p(principal['amount_paid']).astype('float32')\n",
    "\n",
    "ax = principal['amount_log'].plot(kind='hist', bins=120)\n",
    "ax.set_title('Principal: distribuição de log1p(amount_paid)')\n",
    "ax.set_xlabel('log1p(amount_paid)')\n",
    "plt.show()"
   ]
  },
  {
   "cell_type": "code",
   "execution_count": null,
   "metadata": {
    "colab": {
     "base_uri": "https://localhost:8080/",
     "height": 0
    },
    "executionInfo": {
     "elapsed": 2452,
     "status": "ok",
     "timestamp": 1761511493670,
     "user": {
      "displayName": "Ingred Almeida",
      "userId": "12962108153732502929"
     },
     "user_tz": 180
    },
    "id": "BUjCy0BhLurN",
    "outputId": "dc4a17fe-0301-4697-e720-3194b765132a"
   },
   "outputs": [],
   "source": [
    "#volume diário (contagem e soma)\n",
    "daily = principal.set_index('timestamp')['amount_paid'].resample('D').agg(['count','sum'])\n",
    "daily[['count']].plot(title='Principal: transações por dia'); plt.show()\n",
    "daily[['sum']].plot(title='Principal: soma de valores por dia'); plt.show()"
   ]
  },
  {
   "cell_type": "code",
   "execution_count": null,
   "metadata": {
    "colab": {
     "base_uri": "https://localhost:8080/",
     "height": 0
    },
    "executionInfo": {
     "elapsed": 247,
     "status": "ok",
     "timestamp": 1761511493923,
     "user": {
      "displayName": "Ingred Almeida",
      "userId": "12962108153732502929"
     },
     "user_tz": 180
    },
    "id": "9W5x_R9QMNKu",
    "outputId": "05053dd2-d143-47c2-fc55-6be215cda18a"
   },
   "outputs": [],
   "source": [
    "#desbalanceamento\n",
    "vc = principal['label'].value_counts().sort_index()  # 0,1\n",
    "ax = vc.rename({0:'legítimas', 1:'ilícitas'}).plot(kind='bar')\n",
    "ax.set_title('Análise do balanceamento das classes')\n",
    "ax.set_ylabel('contagem')\n",
    "ax.set_yscale('log')\n",
    "\n",
    "for i, v in enumerate(vc.values):\n",
    "    ax.text(i, v, f'{v:,}', ha='center', va='bottom', fontsize=9)\n",
    "\n",
    "plt.show()"
   ]
  },
  {
   "cell_type": "markdown",
   "metadata": {
    "id": "73gyzWosMfpA"
   },
   "source": [
    "### **Feature engineering**"
   ]
  },
  {
   "cell_type": "code",
   "execution_count": 7,
   "metadata": {
    "executionInfo": {
     "elapsed": 8,
     "status": "ok",
     "timestamp": 1761511493937,
     "user": {
      "displayName": "Ingred Almeida",
      "userId": "12962108153732502929"
     },
     "user_tz": 180
    },
    "id": "o6PxzePDMkTG"
   },
   "outputs": [],
   "source": [
    "def _hash_bucket(series: pd.Series, n_buckets: int = 4096, salt: str = \"cp_v1\") -> pd.Series:\n",
    "    def _h(x: str) -> int:\n",
    "        if x is None or (isinstance(x, float) and np.isnan(x)):\n",
    "            x = \"UNK\"\n",
    "        s = (salt + str(x)).encode(\"utf-8\")\n",
    "        return int(hashlib.md5(s).hexdigest(), 16) % n_buckets\n",
    "    return series.astype(\"string\").map(_h).astype(\"int32\")\n"
   ]
  },
  {
   "cell_type": "code",
   "execution_count": 8,
   "metadata": {
    "executionInfo": {
     "elapsed": 5,
     "status": "ok",
     "timestamp": 1761511493949,
     "user": {
      "displayName": "Ingred Almeida",
      "userId": "12962108153732502929"
     },
     "user_tz": 180
    },
    "id": "tJcK8jjVOpI0"
   },
   "outputs": [],
   "source": [
    "def add_time_safe_tx_features(\n",
    "    pdf,\n",
    "    col_ts='timestamp',\n",
    "    col_src='src_account',\n",
    "    col_dst='dst_account',\n",
    "    col_amt='amount_paid',\n",
    "    K=50,\n",
    "    alpha=0.3,\n",
    "    n_buckets=4096\n",
    "):\n",
    "    #ordenar as transações por timestamp (evitar vazamento) e usar uma cópia\n",
    "    pdf = pdf.sort_values(col_ts).copy()\n",
    "\n",
    "    #criação das features que capturam sazonalidade (fraudes podem ocorrer em horários atípicos)\n",
    "    pdf['_dow']  = pdf[col_ts].dt.dayofweek.astype('int8')\n",
    "    pdf['_hour'] = pdf[col_ts].dt.hour.astype('int8')\n",
    "\n",
    "    #aplica log1p ao valor pago para reduzir assimetria (melhorar a escala)\n",
    "    pdf['_amt_log'] = np.log1p(pdf[col_amt]).astype('float32')\n",
    "\n",
    "    #analisar se as contas envolvidas estão no mesmo banco\n",
    "    if 'src_bank' in pdf.columns and 'dst_bank' in pdf.columns:\n",
    "        pdf['_same_bank'] = (pdf['src_bank'] == pdf['dst_bank']).astype('int8')\n",
    "    else:\n",
    "        pdf['_same_bank'] = 0\n",
    "\n",
    "    if 'pay_currency' in pdf.columns and 'recv_currency' in pdf.columns:\n",
    "        pdf['currency_pair'] = (pdf['pay_currency'].fillna('UNK') + '->' + pdf['recv_currency'].fillna('UNK')).astype('string')\n",
    "        pdf['cp_bucket'] = _hash_bucket(pdf['currency_pair'], n_buckets=n_buckets, salt=\"cp_v1\")\n",
    "    elif 'currency_pair' in pdf.columns:\n",
    "        pdf['currency_pair'] = pdf['currency_pair'].astype('string')\n",
    "        pdf['cp_bucket'] = _hash_bucket(pdf['currency_pair'], n_buckets=n_buckets, salt=\"cp_v1\")\n",
    "    else:\n",
    "        pdf['currency_pair'] = 'UNK'\n",
    "        pdf['cp_bucket'] = 0\n",
    "\n",
    "    #número de transações anteriores do remetente (contas novas vs veteranas)\n",
    "    gsrc = pdf.groupby(col_src, sort=False)\n",
    "    pdf['_src_tx_count_prev'] = gsrc.cumcount().astype('int32')\n",
    "\n",
    "    #usei o .shift para deslocar o valor do remetente em 1 dentro do grupo (sem olhar a transação atual)\n",
    "    prev_src_amt = gsrc[col_amt].shift()\n",
    "\n",
    "    #acumulados históricos do remetente ATÉ a transação anterior\n",
    "    pdf['_src_amt_sum_prev']  = prev_src_amt.groupby(pdf[col_src]).expanding().sum().reset_index(level=0, drop=True).fillna(0).astype('float32')\n",
    "    #uma transação muito maior que a média pode ser atípica\n",
    "    pdf['_src_amt_mean_prev'] = prev_src_amt.groupby(pdf[col_src]).expanding().mean().reset_index(level=0, drop=True).fillna(0).astype('float32')\n",
    "    pdf['_src_amt_std_prev']  = prev_src_amt.groupby(pdf[col_src]).expanding().std().reset_index(level=0, drop=True).fillna(0).astype('float32')\n",
    "\n",
    "    #tempo em segundos desde a última transação do remetente (burst pode sugerir fraude)\n",
    "    pdf['_src_secs_since_last'] = (pdf[col_ts] - gsrc[col_ts].shift()).dt.total_seconds().fillna(-1).astype('float32')\n",
    "\n",
    "    #rolling causal para remetente (últimas K transações ANTES) + EWMA causal\n",
    "    pdf['_src_roll_mean_K'] = prev_src_amt.groupby(pdf[col_src]).rolling(K, min_periods=1).mean().reset_index(level=0, drop=True).astype('float32')\n",
    "    pdf['_src_roll_std_K']  = prev_src_amt.groupby(pdf[col_src]).rolling(K, min_periods=2).std().reset_index(level=0, drop=True).fillna(0).astype('float32')\n",
    "    pdf['_src_roll_sum_K']  = prev_src_amt.groupby(pdf[col_src]).rolling(K, min_periods=1).sum().reset_index(level=0, drop=True).astype('float32')\n",
    "    pdf['_src_ewm_mean']    = prev_src_amt.groupby(pdf[col_src]).apply(lambda s: s.ewm(alpha=alpha, adjust=False).mean()).reset_index(level=0, drop=True).astype('float32')\n",
    "\n",
    "    #mesma lógica para o destinatário\n",
    "    gdst = pdf.groupby(col_dst, sort=False)\n",
    "    pdf['_dst_rx_count_prev'] = gdst.cumcount().astype('int32')\n",
    "    prev_dst_amt = gdst[col_amt].shift()\n",
    "\n",
    "    pdf['_dst_amt_sum_prev']  = prev_dst_amt.groupby(pdf[col_dst]).expanding().sum().reset_index(level=0, drop=True).fillna(0).astype('float32')\n",
    "    pdf['_dst_amt_mean_prev'] = prev_dst_amt.groupby(pdf[col_dst]).expanding().mean().reset_index(level=0, drop=True).fillna(0).astype('float32')\n",
    "    pdf['_dst_amt_std_prev']  = prev_dst_amt.groupby(pdf[col_dst]).expanding().std().reset_index(level=0, drop=True).fillna(0).astype('float32')\n",
    "    pdf['_dst_secs_since_last'] = (pdf[col_ts] - gdst[col_ts].shift()).dt.total_seconds().fillna(-1).astype('float32')\n",
    "\n",
    "    pdf['_dst_roll_mean_K'] = prev_dst_amt.groupby(pdf[col_dst]).rolling(K, min_periods=1).mean().reset_index(level=0, drop=True).astype('float32')\n",
    "    pdf['_dst_roll_std_K']  = prev_dst_amt.groupby(pdf[col_dst]).rolling(K, min_periods=2).std().reset_index(level=0, drop=True).fillna(0).astype('float32')\n",
    "    pdf['_dst_roll_sum_K']  = prev_dst_amt.groupby(pdf[col_dst]).rolling(K, min_periods=1).sum().reset_index(level=0, drop=True).astype('float32')\n",
    "    pdf['_dst_ewm_mean']    = prev_dst_amt.groupby(pdf[col_dst]).apply(lambda s: s.ewm(alpha=alpha, adjust=False).mean()).reset_index(level=0, drop=True).astype('float32')\n",
    "\n",
    "    #padronizar o valor atual pelo histórico do remetente/destinatário (z-scores)\n",
    "    eps = 1e-6\n",
    "    pdf['_src_amt_z'] = ((pdf[col_amt] - pdf['_src_amt_mean_prev']) / (pdf['_src_amt_std_prev'] + eps)).astype('float32')\n",
    "    pdf['_dst_amt_z'] = ((pdf[col_amt] - pdf['_dst_amt_mean_prev']) / (pdf['_dst_amt_std_prev'] + eps)).astype('float32')\n",
    "\n",
    "    return pdf"
   ]
  },
  {
   "cell_type": "code",
   "execution_count": 9,
   "metadata": {
    "executionInfo": {
     "elapsed": 334950,
     "status": "ok",
     "timestamp": 1761511828904,
     "user": {
      "displayName": "Ingred Almeida",
      "userId": "12962108153732502929"
     },
     "user_tz": 180
    },
    "id": "ZZHyCPAWPA5L"
   },
   "outputs": [],
   "source": [
    "principal_feats = add_time_safe_tx_features(principal)\n",
    "principal_feats.to_parquet(os.path.join(PROC_DIR, 'principal_feats.parquet'), index=False)\n",
    "\n",
    "tail_feats_path = None\n",
    "tail_path = os.path.join(PROC_DIR, 'tail_ood_clean.parquet')\n",
    "if os.path.exists(tail_path):\n",
    "    tail_ood = pd.read_parquet(tail_path)\n",
    "    tail_ood_feats = add_time_safe_tx_features(tail_ood)\n",
    "    tail_feats_path = os.path.join(PROC_DIR, 'tail_ood_feats.parquet')\n",
    "    tail_ood_feats.to_parquet(tail_feats_path, index=False)"
   ]
  }
 ],
 "metadata": {
  "accelerator": "GPU",
  "colab": {
   "authorship_tag": "ABX9TyO21Mb9Rqsjx2VeN9kHeLkv",
   "gpuType": "T4",
   "provenance": []
  },
  "kernelspec": {
   "display_name": "Python 3",
   "name": "python3"
  },
  "language_info": {
   "name": "python"
  }
 },
 "nbformat": 4,
 "nbformat_minor": 0
}
