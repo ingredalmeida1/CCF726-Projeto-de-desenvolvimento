{
 "cells": [
  {
   "cell_type": "code",
   "execution_count": 1,
   "metadata": {
    "executionInfo": {
     "elapsed": 1613,
     "status": "ok",
     "timestamp": 1761512624593,
     "user": {
      "displayName": "Ingred Almeida",
      "userId": "12962108153732502929"
     },
     "user_tz": 180
    },
    "id": "Jl4VBne6M6B2"
   },
   "outputs": [],
   "source": [
    "import os, json, numpy as np, pandas as pd\n",
    "import networkx as nx\n",
    "from networkx.readwrite import json_graph"
   ]
  },
  {
   "cell_type": "code",
   "execution_count": null,
   "metadata": {
    "colab": {
     "base_uri": "https://localhost:8080/"
    },
    "executionInfo": {
     "elapsed": 18297,
     "status": "ok",
     "timestamp": 1761512642893,
     "user": {
      "displayName": "Ingred Almeida",
      "userId": "12962108153732502929"
     },
     "user_tz": 180
    },
    "id": "Ao8vFz1VS7V4",
    "outputId": "e21f0c23-e888-46a3-93c7-d021efefb20b"
   },
   "outputs": [
    {
     "name": "stdout",
     "output_type": "stream",
     "text": [
      "Mounted at /content/gdrive\n"
     ]
    }
   ],
   "source": [
    "from google.colab import drive\n",
    "drive.mount('/content/gdrive', force_remount=True)\n",
    "\n",
    "DATA_DIR = ''"
   ]
  },
  {
   "cell_type": "code",
   "execution_count": 3,
   "metadata": {
    "executionInfo": {
     "elapsed": 17574,
     "status": "ok",
     "timestamp": 1761512660478,
     "user": {
      "displayName": "Ingred Almeida",
      "userId": "12962108153732502929"
     },
     "user_tz": 180
    },
    "id": "Z_fH1oOGSxth"
   },
   "outputs": [],
   "source": [
    "PROC_DIR = os.path.join(DATA_DIR, 'processed')\n",
    "OUT_PREFIX = os.path.join(PROC_DIR, 'graphsage_edges')\n",
    "\n",
    "train_pr  = pd.read_parquet(os.path.join(PROC_DIR, 'train_clean.parquet'))\n",
    "valid_pr  = pd.read_parquet(os.path.join(PROC_DIR, 'valid_clean.parquet'))\n",
    "test_pr   = pd.read_parquet(os.path.join(PROC_DIR, 'test_clean.parquet'))\n",
    "principal_feats = pd.read_parquet(os.path.join(PROC_DIR, 'principal_feats.parquet'))"
   ]
  },
  {
   "cell_type": "code",
   "execution_count": null,
   "metadata": {
    "colab": {
     "base_uri": "https://localhost:8080/"
    },
    "executionInfo": {
     "elapsed": 8,
     "status": "ok",
     "timestamp": 1761512660490,
     "user": {
      "displayName": "Ingred Almeida",
      "userId": "12962108153732502929"
     },
     "user_tz": 180
    },
    "id": "u_F-l6aaUFvs",
    "outputId": "04e889b6-f862-4d88-d063-89c189c55df8"
   },
   "outputs": [],
   "source": [
    "print(f'train_pr.columns:\\n{train_pr.columns}\\n\\n')\n",
    "print(f'valid_pr.columns:\\n{valid_pr.columns}\\n\\n')\n",
    "print(f'test_pr.columns:\\n{test_pr.columns}\\n\\n')\n",
    "print(f'principal_feats.columns:\\n{principal_feats.columns}\\n\\n')"
   ]
  },
  {
   "cell_type": "code",
   "execution_count": 5,
   "metadata": {
    "executionInfo": {
     "elapsed": 2,
     "status": "ok",
     "timestamp": 1761512660494,
     "user": {
      "displayName": "Ingred Almeida",
      "userId": "12962108153732502929"
     },
     "user_tz": 180
    },
    "id": "fQxA9pnJTPvc"
   },
   "outputs": [],
   "source": [
    "def merge_feats(split_df, feats_df):\n",
    "    already_in_split = {\n",
    "        'timestamp','src_bank','src_account','dst_bank','dst_account',\n",
    "        'amount_received','recv_currency','amount_paid','pay_currency',\n",
    "        'payment_format','label','currency_pair','fx_spread','tx_id'\n",
    "    }\n",
    "\n",
    "    candidate_feats = [\n",
    "        'cp_bucket',\n",
    "        '_dow','_hour','_amt_log','_same_bank',\n",
    "        '_src_tx_count_prev','_src_amt_sum_prev','_src_amt_mean_prev','_src_amt_std_prev','_src_secs_since_last','_src_amt_z',\n",
    "        '_dst_rx_count_prev','_dst_amt_sum_prev','_dst_amt_mean_prev','_dst_amt_std_prev','_dst_secs_since_last','_dst_amt_z',\n",
    "        '_src_roll_mean_K','_src_roll_std_K','_src_roll_sum_K','_src_ewm_mean',\n",
    "        '_dst_roll_mean_K','_dst_roll_std_K','_dst_roll_sum_K','_dst_ewm_mean'\n",
    "    ]\n",
    "    feat_cols = ['tx_id'] + [c for c in candidate_feats if c in feats_df.columns]\n",
    "\n",
    "    merged = split_df.merge(feats_df[feat_cols], on='tx_id', how='left', validate='one_to_one')\n",
    "    return merged"
   ]
  },
  {
   "cell_type": "code",
   "execution_count": 6,
   "metadata": {
    "executionInfo": {
     "elapsed": 6510,
     "status": "ok",
     "timestamp": 1761512667006,
     "user": {
      "displayName": "Ingred Almeida",
      "userId": "12962108153732502929"
     },
     "user_tz": 180
    },
    "id": "5-hBh8D2TTqo"
   },
   "outputs": [],
   "source": [
    "train_m = merge_feats(train_pr, principal_feats)\n",
    "valid_m = merge_feats(valid_pr, principal_feats)\n",
    "test_m  = merge_feats(test_pr,  principal_feats)"
   ]
  },
  {
   "cell_type": "code",
   "execution_count": null,
   "metadata": {
    "colab": {
     "base_uri": "https://localhost:8080/"
    },
    "executionInfo": {
     "elapsed": 7,
     "status": "ok",
     "timestamp": 1761512667016,
     "user": {
      "displayName": "Ingred Almeida",
      "userId": "12962108153732502929"
     },
     "user_tz": 180
    },
    "id": "0cynNNrpUro1",
    "outputId": "b984227d-d68b-4582-febc-d30f681c5280"
   },
   "outputs": [],
   "source": [
    "for name, dfm in [('train',train_m),('valid',valid_m),('test',test_m)]:\n",
    "    for c in ['src_account','dst_account','label','fx_spread','tx_id']:\n",
    "        assert c in dfm.columns, f\"[{name}] faltando coluna {c}\"\n",
    "print(\"OK: merge sem sufixos indesejados.\")"
   ]
  },
  {
   "cell_type": "code",
   "execution_count": null,
   "metadata": {
    "colab": {
     "base_uri": "https://localhost:8080/"
    },
    "executionInfo": {
     "elapsed": 2621,
     "status": "ok",
     "timestamp": 1761512669639,
     "user": {
      "displayName": "Ingred Almeida",
      "userId": "12962108153732502929"
     },
     "user_tz": 180
    },
    "id": "1EQDmnOATWI5",
    "outputId": "56b7a42c-0a8c-4eeb-f45c-5366c65d14d0"
   },
   "outputs": [],
   "source": [
    "accounts_all = pd.Index(pd.unique(pd.concat([\n",
    "    train_m['src_account'], train_m['dst_account'],\n",
    "    valid_m['src_account'], valid_m['dst_account'],\n",
    "    test_m['src_account'],  test_m['dst_account']\n",
    "], ignore_index=True)))\n",
    "id_map = {acc: int(i) for i, acc in enumerate(accounts_all)}\n",
    "with open(f\"{OUT_PREFIX}-id_map.json\", \"w\") as f:\n",
    "    json.dump(id_map, f)\n",
    "print(\"OK:\", f\"{OUT_PREFIX}-id_map.json\", \"| num_nodes:\", len(accounts_all))"
   ]
  },
  {
   "cell_type": "code",
   "execution_count": 9,
   "metadata": {
    "executionInfo": {
     "elapsed": 2,
     "status": "ok",
     "timestamp": 1761512669643,
     "user": {
      "displayName": "Ingred Almeida",
      "userId": "12962108153732502929"
     },
     "user_tz": 180
    },
    "id": "uGhDbdauTX6r"
   },
   "outputs": [],
   "source": [
    "acc2idx = pd.Series(range(len(accounts_all)), index=accounts_all)"
   ]
  },
  {
   "cell_type": "code",
   "execution_count": null,
   "metadata": {
    "colab": {
     "base_uri": "https://localhost:8080/"
    },
    "executionInfo": {
     "elapsed": 8803,
     "status": "ok",
     "timestamp": 1761512678450,
     "user": {
      "displayName": "Ingred Almeida",
      "userId": "12962108153732502929"
     },
     "user_tz": 180
    },
    "id": "FpnR20A4TZS5",
    "outputId": "4641f3e4-5bdc-4e37-daee-0bc6dfdd2b34"
   },
   "outputs": [],
   "source": [
    "n = len(accounts_all)\n",
    "deg_out = np.zeros(n, dtype=np.int32)\n",
    "deg_in  = np.zeros(n, dtype=np.int32)\n",
    "sum_out = np.zeros(n, dtype=np.float32)\n",
    "sum_in  = np.zeros(n, dtype=np.float32)\n",
    "\n",
    "np.add.at(deg_out, acc2idx.loc[train_m['src_account']].to_numpy(), 1)\n",
    "np.add.at(deg_in,  acc2idx.loc[train_m['dst_account']].to_numpy(), 1)\n",
    "np.add.at(sum_out, acc2idx.loc[train_m['src_account']].to_numpy(), train_m['amount_paid'].astype('float32').to_numpy())\n",
    "np.add.at(sum_in,  acc2idx.loc[train_m['dst_account']].to_numpy(), train_m['amount_paid'].astype('float32').to_numpy())\n",
    "\n",
    "X_nodes = np.stack([deg_out, deg_in, np.log1p(sum_out), np.log1p(sum_in)], axis=1).astype('float32')\n",
    "np.save(f\"{OUT_PREFIX}-feats.npy\", X_nodes)\n",
    "print(\"OK:\", f\"{OUT_PREFIX}-feats.npy\", \"| shape:\", X_nodes.shape)"
   ]
  },
  {
   "cell_type": "code",
   "execution_count": 11,
   "metadata": {
    "executionInfo": {
     "elapsed": 465,
     "status": "ok",
     "timestamp": 1761512678919,
     "user": {
      "displayName": "Ingred Almeida",
      "userId": "12962108153732502929"
     },
     "user_tz": 180
    },
    "id": "G6Sh0Q75TdUm"
   },
   "outputs": [],
   "source": [
    "G = nx.Graph()\n",
    "for acc in accounts_all:\n",
    "    G.add_node(acc)"
   ]
  },
  {
   "cell_type": "code",
   "execution_count": 12,
   "metadata": {
    "executionInfo": {
     "elapsed": 4,
     "status": "ok",
     "timestamp": 1761512678926,
     "user": {
      "displayName": "Ingred Almeida",
      "userId": "12962108153732502929"
     },
     "user_tz": 180
    },
    "id": "RUY8oMe-Tfw6"
   },
   "outputs": [],
   "source": [
    "def add_edges_unique(df):\n",
    "    pairs = pd.DataFrame({\n",
    "        'u': np.where(df['src_account'].values <= df['dst_account'].values, df['src_account'].values, df['dst_account'].values),\n",
    "        'v': np.where(df['src_account'].values <= df['dst_account'].values, df['dst_account'].values, df['src_account'].values),\n",
    "    })\n",
    "    pairs = pairs.drop_duplicates()\n",
    "    for u, v in pairs.itertuples(index=False):\n",
    "        if u != v and not G.has_edge(u, v):\n",
    "            G.add_edge(u, v)"
   ]
  },
  {
   "cell_type": "code",
   "execution_count": 13,
   "metadata": {
    "executionInfo": {
     "elapsed": 5374,
     "status": "ok",
     "timestamp": 1761512684304,
     "user": {
      "displayName": "Ingred Almeida",
      "userId": "12962108153732502929"
     },
     "user_tz": 180
    },
    "id": "QezC7yNETiQF"
   },
   "outputs": [],
   "source": [
    "add_edges_unique(train_m)\n",
    "add_edges_unique(valid_m)\n",
    "add_edges_unique(test_m)"
   ]
  },
  {
   "cell_type": "code",
   "execution_count": null,
   "metadata": {
    "colab": {
     "base_uri": "https://localhost:8080/"
    },
    "executionInfo": {
     "elapsed": 4411,
     "status": "ok",
     "timestamp": 1761512688724,
     "user": {
      "displayName": "Ingred Almeida",
      "userId": "12962108153732502929"
     },
     "user_tz": 180
    },
    "id": "V7WVX7JoTjaz",
    "outputId": "d55d6574-5720-48a3-8e1c-cf73fe8c2009"
   },
   "outputs": [],
   "source": [
    "G_json = json_graph.node_link_data(G)\n",
    "with open(f\"{OUT_PREFIX}-G.json\", \"w\") as f:\n",
    "    json.dump(G_json, f)\n",
    "print(\"OK:\", f\"{OUT_PREFIX}-G.json\", \"| nodes:\", G.number_of_nodes(), \"| edges:\", G.number_of_edges())"
   ]
  },
  {
   "cell_type": "code",
   "execution_count": 15,
   "metadata": {
    "executionInfo": {
     "elapsed": 5,
     "status": "ok",
     "timestamp": 1761512688734,
     "user": {
      "displayName": "Ingred Almeida",
      "userId": "12962108153732502929"
     },
     "user_tz": 180
    },
    "id": "FgXfDTMyTly-"
   },
   "outputs": [],
   "source": [
    "EDGE_FEATS = [c for c in [\n",
    "    '_dow','_hour','_amt_log','_same_bank',\n",
    "    '_src_tx_count_prev','_src_amt_sum_prev','_src_amt_mean_prev','_src_amt_std_prev','_src_secs_since_last','_src_amt_z',\n",
    "    '_dst_rx_count_prev','_dst_amt_sum_prev','_dst_amt_mean_prev','_dst_amt_std_prev','_dst_secs_since_last','_dst_amt_z',\n",
    "    'fx_spread',\n",
    "    '_src_roll_mean_K','_src_roll_std_K','_src_roll_sum_K','_src_ewm_mean',\n",
    "    '_dst_roll_mean_K','_dst_roll_std_K','_dst_roll_sum_K','_dst_ewm_mean'\n",
    "] if c in train_m.columns]"
   ]
  },
  {
   "cell_type": "code",
   "execution_count": 16,
   "metadata": {
    "executionInfo": {
     "elapsed": 3,
     "status": "ok",
     "timestamp": 1761512688741,
     "user": {
      "displayName": "Ingred Almeida",
      "userId": "12962108153732502929"
     },
     "user_tz": 180
    },
    "id": "pZLxoGR2Toco"
   },
   "outputs": [],
   "source": [
    "def export_edge_split(name, dfm):\n",
    "    src_idx = acc2idx.loc[dfm['src_account']].to_numpy().astype('int64')\n",
    "    dst_idx = acc2idx.loc[dfm['dst_account']].to_numpy().astype('int64')\n",
    "\n",
    "    E_attr = dfm[EDGE_FEATS].to_numpy().astype('float32')\n",
    "    y      = dfm['label'].to_numpy().astype('int64')\n",
    "    txids  = dfm['tx_id'].to_numpy().astype('int64')\n",
    "\n",
    "    cp_b  = (dfm['cp_bucket'].to_numpy().astype('int64') if 'cp_bucket' in dfm.columns else np.zeros(len(dfm), dtype='int64'))\n",
    "\n",
    "    np.save(f\"{OUT_PREFIX}-{name}_edges.npy\",     np.stack([src_idx, dst_idx], axis=1))\n",
    "    np.save(f\"{OUT_PREFIX}-{name}_edge_feats.npy\", E_attr)\n",
    "    np.save(f\"{OUT_PREFIX}-{name}_edge_labels.npy\", y)\n",
    "    np.save(f\"{OUT_PREFIX}-{name}_cp_bucket.npy\",  cp_b)\n",
    "    np.save(f\"{OUT_PREFIX}-{name}_txids.npy\",      txids)\n",
    "\n",
    "    print(f\"OK: {name} | edges:\", len(dfm), \"| feat_dim:\", E_attr.shape[1])"
   ]
  },
  {
   "cell_type": "code",
   "execution_count": null,
   "metadata": {
    "colab": {
     "base_uri": "https://localhost:8080/"
    },
    "executionInfo": {
     "elapsed": 28163,
     "status": "ok",
     "timestamp": 1761512718220,
     "user": {
      "displayName": "Ingred Almeida",
      "userId": "12962108153732502929"
     },
     "user_tz": 180
    },
    "id": "pzwYA2D8TsZj",
    "outputId": "3b7d0631-085e-4a92-b03b-2b01dd7986f1"
   },
   "outputs": [],
   "source": [
    "export_edge_split(\"train\", train_m)\n",
    "export_edge_split(\"valid\", valid_m)\n",
    "export_edge_split(\"test\",  test_m)"
   ]
  },
  {
   "cell_type": "code",
   "execution_count": 18,
   "metadata": {
    "executionInfo": {
     "elapsed": 408,
     "status": "ok",
     "timestamp": 1761512718635,
     "user": {
      "displayName": "Ingred Almeida",
      "userId": "12962108153732502929"
     },
     "user_tz": 180
    },
    "id": "GGMINUqQTtsQ"
   },
   "outputs": [],
   "source": [
    "meta = {\n",
    "    \"edge_feat_names\": EDGE_FEATS,\n",
    "    \"node_feat_names\": [\"deg_out\",\"deg_in\",\"log1p_sum_out\",\"log1p_sum_in\"],\n",
    "    \"has_cp_bucket\": True,\n",
    "    \"cp_n_buckets\": int(dfm['cp_bucket'].max()+1 if 'cp_bucket' in dfm.columns else 1)\n",
    "}\n",
    "with open(f\"{OUT_PREFIX}-meta.json\", \"w\") as f:\n",
    "    json.dump(meta, f, indent=2)"
   ]
  },
  {
   "cell_type": "code",
   "execution_count": 19,
   "metadata": {
    "executionInfo": {
     "elapsed": 453,
     "status": "ok",
     "timestamp": 1761512719120,
     "user": {
      "displayName": "Ingred Almeida",
      "userId": "12962108153732502929"
     },
     "user_tz": 180
    },
    "id": "PMzapsjMTzd4"
   },
   "outputs": [],
   "source": [
    "split_info = {\n",
    "    \"train\": int(len(train_m)),\n",
    "    \"valid\": int(len(valid_m)),\n",
    "    \"test\":  int(len(test_m))\n",
    "}\n",
    "with open(f\"{OUT_PREFIX}-edge_split.json\", \"w\") as f:\n",
    "    json.dump(split_info, f, indent=2)"
   ]
  },
  {
   "cell_type": "code",
   "execution_count": null,
   "metadata": {
    "colab": {
     "base_uri": "https://localhost:8080/"
    },
    "executionInfo": {
     "elapsed": 6,
     "status": "ok",
     "timestamp": 1761512719129,
     "user": {
      "displayName": "Ingred Almeida",
      "userId": "12962108153732502929"
     },
     "user_tz": 180
    },
    "id": "a5zuZAcbT3sY",
    "outputId": "ec76a48e-385d-4452-daba-94cd93d18044"
   },
   "outputs": [],
   "source": [
    "print(\"\\nArquivos gerados (prefix):\", OUT_PREFIX)\n",
    "print(\" -G.json, -id_map.json, -feats.npy\")\n",
    "print(\" -train_edges.npy / -valid_edges.npy / -test_edges.npy        (pares [src_id,dst_id])\")\n",
    "print(\" -train_edge_feats.npy / ...                                  (float32, mesma ordem)\")\n",
    "print(\" -train_edge_labels.npy / ...                                 (0/1, mesma ordem)\")\n",
    "print(\" -train_cp_bucket.npy / ...                                   (int64, p/ embedding)\")\n",
    "print(\" -train_txids.npy / ...                                       (referência tx_id)\")\n",
    "print(\" -meta.json, -edge_split.json\")"
   ]
  },
  {
   "cell_type": "code",
   "execution_count": null,
   "metadata": {
    "colab": {
     "base_uri": "https://localhost:8080/"
    },
    "executionInfo": {
     "elapsed": 489,
     "status": "ok",
     "timestamp": 1761512754842,
     "user": {
      "displayName": "Ingred Almeida",
      "userId": "12962108153732502929"
     },
     "user_tz": 180
    },
    "id": "ooETLCoWV4Wx",
    "outputId": "b18a3f24-84ae-4483-ce58-e7660a2b0587"
   },
   "outputs": [],
   "source": [
    "import os, numpy as np, json, glob\n",
    "OUT_PREFIX = os.path.join(PROC_DIR, 'graphsage_edges')\n",
    "\n",
    "for suf in ['-G.json','-id_map.json','-feats.npy']:\n",
    "    p = OUT_PREFIX + suf\n",
    "    print(suf, os.path.exists(p), p)\n",
    "\n",
    "for name in ['train','valid','test']:\n",
    "    edges = np.load(f\"{OUT_PREFIX}-{name}_edges.npy\")\n",
    "    feats = np.load(f\"{OUT_PREFIX}-{name}_edge_feats.npy\")\n",
    "    labs  = np.load(f\"{OUT_PREFIX}-{name}_edge_labels.npy\")\n",
    "    cpb   = np.load(f\"{OUT_PREFIX}-{name}_cp_bucket.npy\")\n",
    "    txids = np.load(f\"{OUT_PREFIX}-{name}_txids.npy\")\n",
    "    print(f\"{name}: edges={edges.shape}, feats={feats.shape}, labels={labs.shape}, cp={cpb.shape}, txids={txids.shape}\")\n",
    "    assert edges.shape[0] == feats.shape[0] == labs.shape[0] == cpb.shape[0] == txids.shape[0]\n",
    "    assert edges.shape[1] == 2  # [src_id, dst_id]\n",
    "\n",
    "with open(f\"{OUT_PREFIX}-meta.json\") as f:\n",
    "    meta = json.load(f)\n",
    "print(\"edge_feat_names:\", len(meta[\"edge_feat_names\"]))\n",
    "print(\"node_feat_names:\", meta[\"node_feat_names\"])\n"
   ]
  },
  {
   "cell_type": "code",
   "execution_count": null,
   "metadata": {
    "colab": {
     "base_uri": "https://localhost:8080/"
    },
    "executionInfo": {
     "elapsed": 223,
     "status": "ok",
     "timestamp": 1761512775827,
     "user": {
      "displayName": "Ingred Almeida",
      "userId": "12962108153732502929"
     },
     "user_tz": 180
    },
    "id": "K8U4eVyLV9VE",
    "outputId": "536c08a5-bed3-49ed-adc6-a284aaaff446"
   },
   "outputs": [],
   "source": [
    "id_map = json.load(open(f\"{OUT_PREFIX}-id_map.json\"))\n",
    "num_nodes = len(id_map)\n",
    "for name in ['train','valid','test']:\n",
    "    edges = np.load(f\"{OUT_PREFIX}-{name}_edges.npy\")\n",
    "    mn, mx = edges.min(), edges.max()\n",
    "    print(name, \"node_id range:\", mn, \"->\", mx, \" (num_nodes =\", num_nodes, \")\")\n",
    "    assert mn >= 0 and mx < num_nodes"
   ]
  }
 ],
 "metadata": {
  "accelerator": "TPU",
  "colab": {
   "authorship_tag": "ABX9TyPUR/7s1Rk3h2q7HCG/EhB9",
   "gpuType": "V5E1",
   "provenance": []
  },
  "kernelspec": {
   "display_name": "Python 3",
   "name": "python3"
  },
  "language_info": {
   "name": "python"
  }
 },
 "nbformat": 4,
 "nbformat_minor": 0
}
