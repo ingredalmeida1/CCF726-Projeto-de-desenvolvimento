{
 "cells": [
  {
   "cell_type": "markdown",
   "metadata": {
    "id": "ML-g7luUtDm-"
   },
   "source": [
    "### **Preparação e tratamento dos dados**\n",
    "\n",
    "___\n",
    "\n",
    "<br/>\n",
    "\n",
    "* **Padronização dos nomes das colunas** do dataset para evitar usar muitos *if's* nas etapas posteriores. Dessa forma o CSV vira um contrato para o restante dos módulos\n",
    "\n",
    "* Foi **utilizada a feature `amount_paid` como valor de referência** para a aresta (transação) para evitar misturar `amount_paid` e `amount_received` em partes diferentes do projeto e não gerar features incoerentes.\n",
    "\n",
    "* Foram **criadas duas features cambiais**:\n",
    "   * `fx_spread` que é a diferença entre o valor que saiu e o valor recebido, útil para detectar spreads anômalos e para normalizar/evitar ambiguidades nos cálculos, uma vez que, por exemplo, a transação pode ser paga em BRL e recebida em USD;\n",
    "   * `currency_pair` que combina as moedas de pagamento e recebimento no formato \"origem->destino\" e é um forte sinal de padrões suspeitos.\n",
    "\n",
    "* O dataset foi ordenado por `timestamp` porque se ele estivcer fora de ordem pode acabar tendo vazamentos de informações uma vez que é preciso olhar apenas o histórico passado de uma conta.\n",
    "\n",
    "* Separação do dataset em train/val/test não por amostragem aleatória das linhas mas por intervalos de data. É uma forma de simular o comportamento em produção de sempre usar o passado para predizer o futuro, além de evitar vazamentos. No fim, essas divisões são salvas em formato `.parquet` após a padronização + limpeza + split dos dados. Dessa forma não é preciso reler todo o CSV bruto, que é muito grande, a cada módulo."
   ]
  },
  {
   "cell_type": "code",
   "execution_count": null,
   "metadata": {
    "colab": {
     "base_uri": "https://localhost:8080/"
    },
    "executionInfo": {
     "elapsed": 19680,
     "status": "ok",
     "timestamp": 1761441931754,
     "user": {
      "displayName": "Ingred Almeida",
      "userId": "12962108153732502929"
     },
     "user_tz": 180
    },
    "id": "bm3gsX2Tgykz",
    "outputId": "70e2eb54-f3f7-4c22-a507-b4e76ba78da9"
   },
   "outputs": [],
   "source": [
    "!pip -q install pandas pyarrow fastparquet pyjanitor datatable pyarrow==17.0.0\n",
    "!pip -q install torch torchvision torchaudio --index-url https://download.pytorch.org/whl/cu121\n",
    "!pip -q install torch-geometric torch-scatter torch-sparse torch-cluster -f https://data.pyg.org/whl/torch-2.4.0+cu121.html"
   ]
  },
  {
   "cell_type": "code",
   "execution_count": null,
   "metadata": {
    "colab": {
     "base_uri": "https://localhost:8080/"
    },
    "executionInfo": {
     "elapsed": 36958,
     "status": "ok",
     "timestamp": 1761441968719,
     "user": {
      "displayName": "Ingred Almeida",
      "userId": "12962108153732502929"
     },
     "user_tz": 180
    },
    "id": "t_iB5fQkq0j7",
    "outputId": "2c2d5145-b679-43c3-ba0a-205bdeed87d5"
   },
   "outputs": [],
   "source": [
    "from google.colab import drive\n",
    "drive.mount('/content/drive', force_remount=True)"
   ]
  },
  {
   "cell_type": "code",
   "execution_count": 4,
   "metadata": {
    "executionInfo": {
     "elapsed": 463,
     "status": "ok",
     "timestamp": 1761441969184,
     "user": {
      "displayName": "Ingred Almeida",
      "userId": "12962108153732502929"
     },
     "user_tz": 180
    },
    "id": "dVyaBL-ylb5a"
   },
   "outputs": [],
   "source": [
    "import os, pandas as pd\n",
    "import numpy as np"
   ]
  },
  {
   "cell_type": "code",
   "execution_count": null,
   "metadata": {
    "colab": {
     "base_uri": "https://localhost:8080/",
     "height": 302
    },
    "executionInfo": {
     "elapsed": 2022,
     "status": "ok",
     "timestamp": 1761441971228,
     "user": {
      "displayName": "Ingred Almeida",
      "userId": "12962108153732502929"
     },
     "user_tz": 180
    },
    "id": "W2x_eYWsla17",
    "outputId": "edcfe4ae-0860-4c77-fcf9-a62f08197aa1"
   },
   "outputs": [],
   "source": [
    "DATA_DIR = '' #colocar em um .env\n",
    "CSV_PATH = os.path.join(DATA_DIR, 'HI-Small_Trans.csv')\n",
    "\n",
    "sampled_data = pd.read_csv(CSV_PATH, nrows=5000, low_memory=False)\n",
    "display(sampled_data.head(3))\n",
    "print('\\n\\n')\n",
    "print(sampled_data.columns.tolist())"
   ]
  },
  {
   "cell_type": "code",
   "execution_count": null,
   "metadata": {
    "colab": {
     "base_uri": "https://localhost:8080/"
    },
    "executionInfo": {
     "elapsed": 21,
     "status": "ok",
     "timestamp": 1761441971251,
     "user": {
      "displayName": "Ingred Almeida",
      "userId": "12962108153732502929"
     },
     "user_tz": 180
    },
    "id": "OlZnq5glmZsW",
    "outputId": "20fa2c97-fb02-4a3c-bdb4-4b2c01452d2f"
   },
   "outputs": [],
   "source": [
    "sampled_data.info()"
   ]
  },
  {
   "cell_type": "code",
   "execution_count": 7,
   "metadata": {
    "executionInfo": {
     "elapsed": 2,
     "status": "ok",
     "timestamp": 1761441971255,
     "user": {
      "displayName": "Ingred Almeida",
      "userId": "12962108153732502929"
     },
     "user_tz": 180
    },
    "id": "YQ537OsyoW_r"
   },
   "outputs": [],
   "source": [
    "#padronização dos nomes das colunas\n",
    "RAW_COLS = {\n",
    "    'Timestamp': 'timestamp',\n",
    "    'From Bank': 'src_bank',\n",
    "    'Account': 'src_account',\n",
    "    'To Bank': 'dst_bank',\n",
    "    'Account.1': 'dst_account',\n",
    "    'Amount Received': 'amount_received',\n",
    "    'Receiving Currency': 'recv_currency',\n",
    "    'Amount Paid': 'amount_paid',\n",
    "    'Payment Currency': 'pay_currency',\n",
    "    'Payment Format': 'payment_format',\n",
    "    'Is Laundering': 'label',\n",
    "}\n",
    "\n",
    "USECOLS = list(RAW_COLS.keys())"
   ]
  },
  {
   "cell_type": "code",
   "execution_count": 8,
   "metadata": {
    "executionInfo": {
     "elapsed": 12,
     "status": "ok",
     "timestamp": 1761441971269,
     "user": {
      "displayName": "Ingred Almeida",
      "userId": "12962108153732502929"
     },
     "user_tz": 180
    },
    "id": "DKnGSw7uomPp"
   },
   "outputs": [],
   "source": [
    "#dtypes enxutos pra reduzir memória\n",
    "DTYPES = {\n",
    "    'From Bank': 'int32',\n",
    "    'To Bank': 'int32',\n",
    "    'Account': 'string',\n",
    "    'Account.1': 'string',\n",
    "    'Amount Received': 'float32',\n",
    "    'Receiving Currency': 'string',\n",
    "    'Amount Paid': 'float32',\n",
    "    'Payment Currency': 'string',\n",
    "    'Payment Format': 'string',\n",
    "    'Is Laundering': 'int8',\n",
    "    # 'Timestamp' vem como object e converte pra datetime\n",
    "}"
   ]
  },
  {
   "cell_type": "code",
   "execution_count": 9,
   "metadata": {
    "executionInfo": {
     "elapsed": 30401,
     "status": "ok",
     "timestamp": 1761442001671,
     "user": {
      "displayName": "Ingred Almeida",
      "userId": "12962108153732502929"
     },
     "user_tz": 180
    },
    "id": "HO_cjAEUozws"
   },
   "outputs": [],
   "source": [
    "#leitura em chunks + limpeza\n",
    "CHUNKSIZE = 500_000\n",
    "parts = []\n",
    "\n",
    "for chunk in pd.read_csv(\n",
    "    CSV_PATH,\n",
    "    usecols=USECOLS,\n",
    "    dtype=DTYPES,\n",
    "    chunksize=CHUNKSIZE,\n",
    "    low_memory=False\n",
    "):\n",
    "    c = chunk.rename(columns=RAW_COLS)\n",
    "\n",
    "    # timestamp convertido para datetime (no dataset está está \"YYYY/MM/DD HH:MM\")\n",
    "    # errors='coerce' garante NaT em linhas ruins\n",
    "    c['timestamp'] = pd.to_datetime(c['timestamp'], format='%Y/%m/%d %H:%M', errors='coerce', utc=True)\n",
    "\n",
    "    #remover NaN essenciais\n",
    "    c = c.dropna(subset=['timestamp', 'src_account', 'dst_account', 'amount_paid'])\n",
    "\n",
    "    #normalizar strings (evita espaços/lixo)\n",
    "    for col in ['src_account','dst_account','recv_currency','pay_currency','payment_format']:\n",
    "        if col in c.columns:\n",
    "            c[col] = c[col].astype('string').str.strip()\n",
    "\n",
    "    #amounts negativos/zero: desconsiderados\n",
    "    c = c[c['amount_paid'] > 0]\n",
    "\n",
    "    #features úteis:\n",
    "    # currency_pair\n",
    "    c['currency_pair'] = (c['pay_currency'].fillna('UNK') + '->' + c['recv_currency'].fillna('UNK')).astype('string')\n",
    "    #fx_spread (quanto recebeu - quanto pagou)\n",
    "    c['fx_spread'] = (c['amount_received'].fillna(c['amount_paid']) - c['amount_paid']).astype('float32')\n",
    "\n",
    "    parts.append(c)\n",
    "\n",
    "df = pd.concat(parts, ignore_index=True)\n",
    "del parts"
   ]
  },
  {
   "cell_type": "code",
   "execution_count": 10,
   "metadata": {
    "executionInfo": {
     "elapsed": 4071,
     "status": "ok",
     "timestamp": 1761442005751,
     "user": {
      "displayName": "Ingred Almeida",
      "userId": "12962108153732502929"
     },
     "user_tz": 180
    },
    "id": "mLIbo0oxqrA8"
   },
   "outputs": [],
   "source": [
    "#ordenar por tempo\n",
    "df = df.sort_values('timestamp').reset_index(drop=True)\n",
    "df['tx_id'] = np.arange(len(df), dtype=np.int64)"
   ]
  },
  {
   "cell_type": "code",
   "execution_count": null,
   "metadata": {
    "colab": {
     "base_uri": "https://localhost:8080/",
     "height": 563
    },
    "executionInfo": {
     "elapsed": 10,
     "status": "ok",
     "timestamp": 1761442005763,
     "user": {
      "displayName": "Ingred Almeida",
      "userId": "12962108153732502929"
     },
     "user_tz": 180
    },
    "id": "5Qls_uNgq6EM",
    "outputId": "fc7b3855-3ab9-4fa0-9b08-1c9d458964ba"
   },
   "outputs": [],
   "source": [
    "print(f'shape: {df.shape}\\n')\n",
    "display(df.head(3))\n",
    "print(f'\\n{df.dtypes}\\n')\n",
    "print(f'{df['timestamp'].min()}, \"->\", {df['timestamp'].max()}')"
   ]
  },
  {
   "cell_type": "markdown",
   "metadata": {
    "id": "U7mU69maFAkl"
   },
   "source": [
    "A página do dataset fala sobre um lote tardio de transações todas ilícitas fora do período principal. Se esse lote cair no teste, não teriam grandes impactos mas se cair no treino, pdoe acabar “ensinando” o modelo com um padrão irreal. Por isso a janela principal foi cortada antes do split, isso foi feito:\n",
    "\n",
    "* Verificando a séria diária (total vs ilícita)\n",
    "* Detectando um *tail* no fim que significa os registros ilícitos\n",
    "* Cortando esse *tail*\n",
    "\n",
    "Optei por não embaralhar essas linhas no restante dos dados porque em dados financeiros/temporais isso poderia quebrar a causalidade e criar um vazamento. Porém, cortar \"cegamente\" também pode ser ruim já que eu poderia estar removedo um cenário difícil que seria útil para avaliar a robustez do modelo.\n",
    "\n",
    "Uma alternativa a essas opções é guardar como um **Tail-ODD** para um teste adicional de robustez sob o desbalanceamento extremo dos dados, como um teste de estresse. Esse conjunto é criado apenas caso esse *tail* seja identificado."
   ]
  },
  {
   "cell_type": "code",
   "execution_count": 12,
   "metadata": {
    "executionInfo": {
     "elapsed": 2282,
     "status": "ok",
     "timestamp": 1761442008047,
     "user": {
      "displayName": "Ingred Almeida",
      "userId": "12962108153732502929"
     },
     "user_tz": 180
    },
    "id": "xCpLiJ4bG7Ci"
   },
   "outputs": [],
   "source": [
    "#auditoria diária para achar o tail 100% ilícito\n",
    "daily = (\n",
    "    df.assign(day=df['timestamp'].dt.floor('D'))\n",
    "      .groupby('day', as_index=True)['label']\n",
    "      .agg(total='size', illicit='sum')\n",
    "      .assign(all_illicit=lambda x: x['illicit'] == x['total'])\n",
    ")\n",
    "\n",
    "#último dia \"misto\" (tem pelo menos 1 legítima)\n",
    "mixed_days = daily.index[~daily['all_illicit']]\n",
    "if len(mixed_days) == 0:\n",
    "    principal_end = df['timestamp'].max()\n",
    "else:\n",
    "    last_mixed_day = mixed_days.max()\n",
    "    principal_end = last_mixed_day + pd.Timedelta(days=1) - pd.Timedelta(microseconds=1)"
   ]
  },
  {
   "cell_type": "code",
   "execution_count": null,
   "metadata": {
    "colab": {
     "base_uri": "https://localhost:8080/"
    },
    "executionInfo": {
     "elapsed": 2895,
     "status": "ok",
     "timestamp": 1761442010953,
     "user": {
      "displayName": "Ingred Almeida",
      "userId": "12962108153732502929"
     },
     "user_tz": 180
    },
    "id": "BxOfxkI3HDss",
    "outputId": "f7b93818-fc3d-4314-898e-db19b3a3661c"
   },
   "outputs": [],
   "source": [
    "main_df = df[df['timestamp'] <= principal_end].copy()\n",
    "tail_ood_df  = df[df['timestamp'] >  principal_end].copy()\n",
    "\n",
    "print(\"Principal:\", main_df['timestamp'].min(), \"→\", main_df['timestamp'].max(), \"|\", main_df.shape)\n",
    "print(\"Tail-OOD :\", tail_ood_df['timestamp'].min() if len(tail_ood_df) else None,\n",
    "      \"→\", tail_ood_df['timestamp'].max() if len(tail_ood_df) else None, \"|\", tail_ood_df.shape)"
   ]
  },
  {
   "cell_type": "code",
   "execution_count": null,
   "metadata": {
    "colab": {
     "base_uri": "https://localhost:8080/"
    },
    "executionInfo": {
     "elapsed": 3255,
     "status": "ok",
     "timestamp": 1761442014237,
     "user": {
      "displayName": "Ingred Almeida",
      "userId": "12962108153732502929"
     },
     "user_tz": 180
    },
    "id": "vuNmLCwTrj4w",
    "outputId": "07908ccc-3eb8-4a7b-9292-a0dadc4569cd"
   },
   "outputs": [],
   "source": [
    "ts_min, ts_max = main_df['timestamp'].min(), main_df['timestamp'].max()\n",
    "t1 = ts_min + (ts_max - ts_min)*0.60\n",
    "t2 = ts_min + (ts_max - ts_min)*0.80\n",
    "\n",
    "train_pr = main_df[main_df['timestamp'] <= t1].copy()\n",
    "valid_pr = main_df[(main_df['timestamp'] > t1) & (main_df['timestamp'] <= t2)].copy()\n",
    "test_pr  = main_df[main_df['timestamp'] > t2].copy()\n",
    "\n",
    "print(\"\\nmain dataset splits:\")\n",
    "for name, part in [('train',train_pr),('valid',valid_pr),('test',test_pr)]:\n",
    "    print(name, part['timestamp'].min(), \"→\", part['timestamp'].max(), \"|\", part.shape)"
   ]
  },
  {
   "cell_type": "code",
   "execution_count": 15,
   "metadata": {
    "executionInfo": {
     "elapsed": 17969,
     "status": "ok",
     "timestamp": 1761442032212,
     "user": {
      "displayName": "Ingred Almeida",
      "userId": "12962108153732502929"
     },
     "user_tz": 180
    },
    "id": "DRvGkmWvr-os"
   },
   "outputs": [],
   "source": [
    "PROC_DIR = os.path.join(DATA_DIR, 'processed'); os.makedirs(PROC_DIR, exist_ok=True)\n",
    "\n",
    "main_df.to_parquet(os.path.join(PROC_DIR, 'principal_clean.parquet'), index=False)\n",
    "train_pr.to_parquet(os.path.join(PROC_DIR, 'train_clean.parquet'), index=False)\n",
    "valid_pr.to_parquet(os.path.join(PROC_DIR, 'valid_clean.parquet'), index=False)\n",
    "test_pr .to_parquet(os.path.join(PROC_DIR, 'test_clean.parquet' ), index=False)\n",
    "\n",
    "if len(tail_ood_df):\n",
    "    tail_ood_df.to_parquet(os.path.join(PROC_DIR, 'tail_ood_clean.parquet'), index=False)"
   ]
  }
 ],
 "metadata": {
  "accelerator": "GPU",
  "colab": {
   "authorship_tag": "ABX9TyMSLwJrwNl8B70GtOlRduIo",
   "gpuType": "T4",
   "provenance": []
  },
  "kernelspec": {
   "display_name": "Python 3",
   "name": "python3"
  },
  "language_info": {
   "name": "python"
  }
 },
 "nbformat": 4,
 "nbformat_minor": 0
}
